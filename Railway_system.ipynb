{
  "cells": [
    {
      "cell_type": "code",
      "execution_count": null,
      "metadata": {
        "id": "DycQgYQieLHv"
      },
      "outputs": [],
      "source": [
        "# Import necessary libraries\n",
        "import pandas as pd\n",
        "import numpy as np\n",
        "from statsmodels.tsa.arima.model import ARIMA\n",
        "import matplotlib.pyplot as plt"
      ]
    },
    {
      "cell_type": "code",
      "execution_count": null,
      "metadata": {
        "colab": {
          "base_uri": "https://localhost:8080/"
        },
        "id": "38VxVGQJeSnu",
        "outputId": "6ae8484f-6efd-4c21-f114-b00037a3cba3"
      },
      "outputs": [
        {
          "output_type": "stream",
          "name": "stdout",
          "text": [
            "   S.NO ARRIVAL TIME START TIME  END TIME\n",
            "0     1     12:46:00   12:51:00  12:52:00\n",
            "1     2     12:50:00   12:52:00  12:54:00\n",
            "2     3     12:51:00   12:53:00  12:55:00\n",
            "3     4     12:54:00   12:55:00  12:57:00\n",
            "4     5     12:56:00   12:57:00  13:01:00\n"
          ]
        }
      ],
      "source": [
        "# Read the Excel file\n",
        "file_path = '/content/MS-JUST_Data.xlsx'  # Replace with the actual path to your Excel file\n",
        "df = pd.read_excel(file_path, skiprows=2)\n",
        "\n",
        "# Drop the first column and any other columns filled with NaN values\n",
        "df = df.dropna(axis=1, how='all')\n",
        "\n",
        "# Display the first few rows of the cleaned dataframe\n",
        "print(df.head())"
      ]
    },
    {
      "cell_type": "code",
      "execution_count": null,
      "metadata": {
        "colab": {
          "base_uri": "https://localhost:8080/",
          "height": 764
        },
        "id": "yohcAuuWfj0V",
        "outputId": "a5eabbd4-672f-4c89-f1a6-98c7fc93d41e"
      },
      "outputs": [
        {
          "output_type": "stream",
          "name": "stderr",
          "text": [
            "/usr/local/lib/python3.10/dist-packages/statsmodels/tsa/base/tsa_model.py:473: ValueWarning: An unsupported index was provided and will be ignored when e.g. forecasting.\n",
            "  self._init_dates(dates, freq)\n",
            "/usr/local/lib/python3.10/dist-packages/statsmodels/tsa/base/tsa_model.py:473: ValueWarning: An unsupported index was provided and will be ignored when e.g. forecasting.\n",
            "  self._init_dates(dates, freq)\n",
            "/usr/local/lib/python3.10/dist-packages/statsmodels/tsa/base/tsa_model.py:473: ValueWarning: An unsupported index was provided and will be ignored when e.g. forecasting.\n",
            "  self._init_dates(dates, freq)\n",
            "/usr/local/lib/python3.10/dist-packages/statsmodels/tsa/base/tsa_model.py:836: ValueWarning: No supported index is available. Prediction results will be given with an integer index beginning at `start`.\n",
            "  return get_prediction_index(\n",
            "/usr/local/lib/python3.10/dist-packages/statsmodels/tsa/base/tsa_model.py:836: FutureWarning: No supported index is available. In the next version, calling this method in a model without a supported index will result in an exception.\n",
            "  return get_prediction_index(\n"
          ]
        },
        {
          "output_type": "stream",
          "name": "stdout",
          "text": [
            "Forecasted Values:\n",
            "203    1083.565646\n",
            "204    1087.112258\n",
            "205    1090.639937\n",
            "206    1094.148783\n",
            "207    1097.638898\n",
            "Name: predicted_mean, dtype: float64\n"
          ]
        },
        {
          "output_type": "display_data",
          "data": {
            "text/plain": [
              "<Figure size 640x480 with 1 Axes>"
            ],
            "image/png": "[encoded data removed]"
          },
          "metadata": {}
        }
      ],
      "source": [
        "# Extract the relevant columns for time series forecasting (e.g., ARRIVAL TIME) and 'S.NO'\n",
        "time_series_data = df[['S.NO', 'ARRIVAL TIME']]\n",
        "\n",
        "# Drop the first row which might still contain NaN values\n",
        "time_series_data = time_series_data.dropna()\n",
        "\n",
        "# Convert the 'ARRIVAL TIME' column to datetime format\n",
        "time_series_data['ARRIVAL TIME'] = pd.to_datetime(time_series_data['ARRIVAL TIME'], format='%H:%M:%S')\n",
        "\n",
        "# Convert the 'ARRIVAL TIME' column to a numeric format (e.g., total minutes)\n",
        "time_series_data['ARRIVAL TIME'] = (\n",
        "    time_series_data['ARRIVAL TIME'].dt.hour * 60 +\n",
        "    time_series_data['ARRIVAL TIME'].dt.minute\n",
        ")\n",
        "\n",
        "# Set 'S.NO' as the index for time series data\n",
        "time_series_data.set_index('S.NO', inplace=True)\n",
        "\n",
        "# Fit ARIMA model\n",
        "model = ARIMA(time_series_data['ARRIVAL TIME'], order=(1, 1, 1))\n",
        "results = model.fit()\n",
        "\n",
        "# Forecast the next 'n' time steps\n",
        "n_steps = 5  # You can adjust this based on your needs\n",
        "forecast = results.get_forecast(steps=n_steps)\n",
        "\n",
        "# Display the forecasted values\n",
        "forecast_values = forecast.predicted_mean\n",
        "print(\"Forecasted Values:\")\n",
        "print(forecast_values)\n",
        "\n",
        "# Plot the original time series data and the forecast\n",
        "plt.plot(time_series_data['ARRIVAL TIME'], label='Original Time Series')\n",
        "plt.plot(forecast_values.index, forecast_values.values, color='red', label='Forecast')\n",
        "plt.xlabel('S.NO')\n",
        "plt.ylabel('ARRIVAL TIME')\n",
        "plt.legend()\n",
        "plt.show()"
      ]
    },
    {
      "cell_type": "code",
      "execution_count": null,
      "metadata": {
        "id": "zhpzqFr7iU1m"
      },
      "outputs": [],
      "source": [
        "# @title Finding some key aspects of the Data\n",
        "df['ARRIVAL TIME'] = pd.to_datetime('2022-01-01 ' + df['ARRIVAL TIME'].astype(str))\n",
        "df['START TIME'] = pd.to_datetime('2022-01-01 ' + df['START TIME'].astype(str))\n",
        "df['END TIME'] = pd.to_datetime('2022-01-01 ' + df['END TIME'].astype(str))\n",
        "df['ARRIVAL HOUR'] = df['ARRIVAL TIME'].dt.hour\n",
        "df['ARRIVAL MINUTE'] = df['ARRIVAL TIME'].dt.minute\n",
        "df['START HOUR'] = df['START TIME'].dt.hour\n",
        "df['START MINUTE'] = df['START TIME'].dt.minute\n",
        "df['END HOUR'] = df['END TIME'].dt.hour\n",
        "df['END MINUTE'] = df['END TIME'].dt.minute\n"
      ]
    },
    {
      "cell_type": "code",
      "execution_count": null,
      "metadata": {
        "colab": {
          "base_uri": "https://localhost:8080/"
        },
        "id": "S-Z0aeb2ix0U",
        "outputId": "ca89bcd7-f0aa-489e-c0d2-eb450cc8b42a"
      },
      "outputs": [
        {
          "output_type": "stream",
          "name": "stdout",
          "text": [
            "Total Arrivals for the Dataset: 203\n"
          ]
        }
      ],
      "source": [
        "# @title Total no of Arrivals?\n",
        "total_arrival_count = df.groupby(['ARRIVAL HOUR', 'ARRIVAL MINUTE']).size().sum()\n",
        "formatted_total_arrival_count = \"Total Arrivals for the Dataset: {}\".format(total_arrival_count)\n",
        "print(formatted_total_arrival_count)\n"
      ]
    },
    {
      "cell_type": "code",
      "execution_count": null,
      "metadata": {
        "colab": {
          "base_uri": "https://localhost:8080/"
        },
        "id": "Uz5NQxyhi27O",
        "outputId": "a971d9e8-2dd4-4b04-dcf5-e2616b711eb7"
      },
      "outputs": [
        {
          "output_type": "stream",
          "name": "stdout",
          "text": [
            "Time with Maximum Arrivals at: 01:48 PM (5)\n"
          ]
        }
      ],
      "source": [
        "# @title Maximum no of Arrivals in which time?\n",
        "max_arrival_time = df.groupby(['ARRIVAL HOUR', 'ARRIVAL MINUTE']).size().idxmax()\n",
        "arrival_count = df.groupby(['ARRIVAL HOUR', 'ARRIVAL MINUTE']).size().max()\n",
        "\n",
        "formatted_max_arrival_time = \"Time with Maximum Arrivals at: {:02d}:{:02d} {} ({})\".format(\n",
        "    max_arrival_time[0] % 12 or 12,  # Adjust for 12-hour format\n",
        "    max_arrival_time[1],\n",
        "    \"AM\" if max_arrival_time[0] < 12 else \"PM\",  # Determine if it's AM or PM\n",
        "    arrival_count\n",
        ")\n",
        "\n",
        "print(formatted_max_arrival_time)\n"
      ]
    },
    {
      "cell_type": "code",
      "execution_count": null,
      "metadata": {
        "colab": {
          "base_uri": "https://localhost:8080/"
        },
        "id": "BMHORkKqjIXW",
        "outputId": "7feefcb3-e213-468f-90d2-cde4677779f5"
      },
      "outputs": [
        {
          "output_type": "stream",
          "name": "stdout",
          "text": [
            "Time with Arrivals at 12:46 PM (1)\n",
            "Time with Arrivals at 12:50 PM (1)\n",
            "Time with Arrivals at 12:51 PM (1)\n",
            "Time with Arrivals at 12:54 PM (1)\n",
            "Time with Arrivals at 12:56 PM (1)\n",
            "Time with Arrivals at 12:57 PM (2)\n",
            "Time with Arrivals at 12:58 PM (1)\n",
            "Time with Arrivals at 12:59 PM (1)\n",
            "Time with Arrivals at 01:03 PM (1)\n",
            "Time with Arrivals at 01:04 PM (2)\n",
            "Time with Arrivals at 01:05 PM (1)\n",
            "Time with Arrivals at 01:08 PM (1)\n",
            "Time with Arrivals at 01:10 PM (2)\n",
            "Time with Arrivals at 01:15 PM (1)\n",
            "Time with Arrivals at 01:22 PM (2)\n",
            "Time with Arrivals at 01:24 PM (1)\n",
            "Time with Arrivals at 01:25 PM (1)\n",
            "Time with Arrivals at 01:28 PM (1)\n",
            "Time with Arrivals at 01:29 PM (2)\n",
            "Time with Arrivals at 01:30 PM (3)\n",
            "Time with Arrivals at 01:31 PM (2)\n",
            "Time with Arrivals at 01:32 PM (1)\n",
            "Time with Arrivals at 01:33 PM (1)\n",
            "Time with Arrivals at 01:34 PM (1)\n",
            "Time with Arrivals at 01:35 PM (3)\n",
            "Time with Arrivals at 01:36 PM (2)\n",
            "Time with Arrivals at 01:38 PM (2)\n",
            "Time with Arrivals at 01:39 PM (1)\n",
            "Time with Arrivals at 01:40 PM (1)\n",
            "Time with Arrivals at 01:41 PM (1)\n",
            "Time with Arrivals at 01:42 PM (4)\n",
            "Time with Arrivals at 01:43 PM (2)\n",
            "Time with Arrivals at 01:45 PM (2)\n",
            "Time with Arrivals at 01:48 PM (5)\n",
            "Time with Arrivals at 01:49 PM (1)\n",
            "Time with Arrivals at 01:50 PM (2)\n",
            "Time with Arrivals at 01:51 PM (1)\n",
            "Time with Arrivals at 01:52 PM (1)\n",
            "Time with Arrivals at 01:54 PM (4)\n",
            "Time with Arrivals at 01:55 PM (1)\n",
            "Time with Arrivals at 01:56 PM (1)\n",
            "Time with Arrivals at 01:57 PM (1)\n",
            "Time with Arrivals at 01:58 PM (2)\n",
            "Time with Arrivals at 01:59 PM (2)\n",
            "Time with Arrivals at 02:02 PM (1)\n",
            "Time with Arrivals at 02:03 PM (1)\n",
            "Time with Arrivals at 02:05 PM (1)\n",
            "Time with Arrivals at 02:08 PM (1)\n",
            "Time with Arrivals at 02:10 PM (3)\n",
            "Time with Arrivals at 02:11 PM (3)\n",
            "Time with Arrivals at 02:12 PM (1)\n",
            "Time with Arrivals at 02:13 PM (1)\n",
            "Time with Arrivals at 02:15 PM (2)\n",
            "Time with Arrivals at 02:18 PM (1)\n",
            "Time with Arrivals at 02:20 PM (1)\n",
            "Time with Arrivals at 02:21 PM (1)\n",
            "Time with Arrivals at 02:25 PM (3)\n",
            "Time with Arrivals at 02:30 PM (2)\n",
            "Time with Arrivals at 02:35 PM (2)\n",
            "Time with Arrivals at 02:36 PM (1)\n",
            "Time with Arrivals at 02:37 PM (1)\n",
            "Time with Arrivals at 02:39 PM (1)\n",
            "Time with Arrivals at 02:41 PM (1)\n",
            "Time with Arrivals at 02:42 PM (1)\n",
            "Time with Arrivals at 02:45 PM (1)\n",
            "Time with Arrivals at 02:47 PM (2)\n",
            "Time with Arrivals at 02:53 PM (1)\n",
            "Time with Arrivals at 02:54 PM (1)\n",
            "Time with Arrivals at 02:55 PM (1)\n",
            "Time with Arrivals at 02:58 PM (1)\n",
            "Time with Arrivals at 03:00 PM (2)\n",
            "Time with Arrivals at 03:01 PM (2)\n",
            "Time with Arrivals at 03:04 PM (2)\n",
            "Time with Arrivals at 03:06 PM (1)\n",
            "Time with Arrivals at 03:10 PM (1)\n",
            "Time with Arrivals at 03:12 PM (1)\n",
            "Time with Arrivals at 03:14 PM (1)\n",
            "Time with Arrivals at 03:15 PM (1)\n",
            "Time with Arrivals at 03:21 PM (2)\n",
            "Time with Arrivals at 03:22 PM (1)\n",
            "Time with Arrivals at 03:25 PM (1)\n",
            "Time with Arrivals at 03:27 PM (1)\n",
            "Time with Arrivals at 03:28 PM (3)\n",
            "Time with Arrivals at 03:31 PM (1)\n",
            "Time with Arrivals at 03:34 PM (1)\n",
            "Time with Arrivals at 03:39 PM (1)\n",
            "Time with Arrivals at 03:40 PM (2)\n",
            "Time with Arrivals at 03:44 PM (1)\n",
            "Time with Arrivals at 03:45 PM (1)\n",
            "Time with Arrivals at 03:49 PM (1)\n",
            "Time with Arrivals at 03:51 PM (2)\n",
            "Time with Arrivals at 03:52 PM (2)\n",
            "Time with Arrivals at 03:53 PM (1)\n",
            "Time with Arrivals at 03:56 PM (1)\n",
            "Time with Arrivals at 04:05 PM (1)\n",
            "Time with Arrivals at 04:08 PM (2)\n",
            "Time with Arrivals at 04:09 PM (1)\n",
            "Time with Arrivals at 04:10 PM (1)\n",
            "Time with Arrivals at 04:12 PM (2)\n",
            "Time with Arrivals at 04:15 PM (2)\n",
            "Time with Arrivals at 04:16 PM (2)\n",
            "Time with Arrivals at 04:17 PM (1)\n",
            "Time with Arrivals at 04:18 PM (3)\n",
            "Time with Arrivals at 04:20 PM (3)\n",
            "Time with Arrivals at 04:21 PM (1)\n",
            "Time with Arrivals at 04:22 PM (2)\n",
            "Time with Arrivals at 04:23 PM (1)\n",
            "Time with Arrivals at 04:24 PM (1)\n",
            "Time with Arrivals at 04:25 PM (1)\n",
            "Time with Arrivals at 04:27 PM (2)\n",
            "Time with Arrivals at 04:28 PM (2)\n",
            "Time with Arrivals at 04:29 PM (1)\n",
            "Time with Arrivals at 04:30 PM (2)\n",
            "Time with Arrivals at 04:31 PM (1)\n",
            "Time with Arrivals at 04:32 PM (1)\n",
            "Time with Arrivals at 04:35 PM (1)\n",
            "Time with Arrivals at 04:36 PM (1)\n",
            "Time with Arrivals at 04:37 PM (2)\n",
            "Time with Arrivals at 04:38 PM (2)\n",
            "Time with Arrivals at 04:39 PM (1)\n",
            "Time with Arrivals at 04:40 PM (1)\n",
            "Time with Arrivals at 04:41 PM (2)\n",
            "Time with Arrivals at 04:45 PM (1)\n",
            "Time with Arrivals at 04:48 PM (1)\n",
            "Time with Arrivals at 04:53 PM (1)\n",
            "Time with Arrivals at 04:54 PM (3)\n",
            "Time with Arrivals at 05:00 PM (1)\n",
            "Time with Arrivals at 05:08 PM (1)\n",
            "Time with Arrivals at 05:12 PM (2)\n",
            "Time with Arrivals at 05:22 PM (1)\n",
            "Time with Arrivals at 05:30 PM (1)\n",
            "Time with Arrivals at 05:35 PM (1)\n",
            "Time with Arrivals at 05:38 PM (1)\n",
            "Time with Arrivals at 05:45 PM (1)\n",
            "Time with Arrivals at 05:46 PM (1)\n",
            "Time with Arrivals at 05:52 PM (1)\n",
            "Time with Arrivals at 05:55 PM (1)\n",
            "Time with Arrivals at 05:58 PM (1)\n",
            "Time with Arrivals at 06:00 PM (1)\n"
          ]
        }
      ],
      "source": [
        "# @title For each time how many arrivals are there?\n",
        "unique_times = df[['ARRIVAL HOUR', 'ARRIVAL MINUTE']].drop_duplicates()\n",
        "\n",
        "for index, time in unique_times.iterrows():\n",
        "    time_count = df[(df['ARRIVAL HOUR'] == time['ARRIVAL HOUR']) & (df['ARRIVAL MINUTE'] == time['ARRIVAL MINUTE'])].shape[0]\n",
        "\n",
        "    formatted_output = \"Time with Arrivals at {:02d}:{:02d} {} ({})\".format(\n",
        "        time['ARRIVAL HOUR'] % 12 or 12,  # Adjust for 12-hour format\n",
        "        time['ARRIVAL MINUTE'],\n",
        "        \"AM\" if time['ARRIVAL HOUR'] < 12 else \"PM\",  # Determine if it's AM or PM\n",
        "        time_count\n",
        "    )\n",
        "\n",
        "    print(formatted_output)\n"
      ]
    },
    {
      "cell_type": "code",
      "execution_count": null,
      "metadata": {
        "colab": {
          "base_uri": "https://localhost:8080/"
        },
        "id": "0CoRpunRma8c",
        "outputId": "327070c2-b3b2-4a80-de0c-a3dfe03e8aa5"
      },
      "outputs": [
        {
          "output_type": "stream",
          "name": "stdout",
          "text": [
            "Time with Fast Service at 12:51 PM (1)\n",
            "Time with Fast Service at 12:52 PM (1)\n",
            "Time with Fast Service at 12:53 PM (1)\n",
            "Time with Fast Service at 12:55 PM (1)\n",
            "Time with Fast Service at 12:57 PM (1)\n",
            "Time with Fast Service at 01:01 PM (1)\n",
            "Time with Fast Service at 12:59 PM (1)\n",
            "Time with Fast Service at 01:04 PM (1)\n",
            "Time with Fast Service at 01:03 PM (1)\n",
            "Time with Fast Service at 01:10 PM (1)\n",
            "Time with Fast Service at 01:20 PM (1)\n",
            "Time with Fast Service at 01:08 PM (1)\n",
            "Time with Fast Service at 01:11 PM (1)\n",
            "Time with Fast Service at 01:14 PM (1)\n",
            "Time with Fast Service at 01:23 PM (1)\n",
            "Time with Fast Service at 01:17 PM (1)\n",
            "Time with Fast Service at 01:21 PM (1)\n",
            "Time with Fast Service at 01:26 PM (2)\n",
            "Time with Fast Service at 01:27 PM (1)\n",
            "Time with Fast Service at 01:32 PM (1)\n",
            "Time with Fast Service at 01:38 PM (2)\n",
            "Time with Fast Service at 01:49 PM (1)\n",
            "Time with Fast Service at 01:34 PM (2)\n",
            "Time with Fast Service at 01:52 PM (2)\n",
            "Time with Fast Service at 01:47 PM (1)\n",
            "Time with Fast Service at 01:48 PM (1)\n",
            "Time with Fast Service at 01:50 PM (1)\n",
            "Time with Fast Service at 01:54 PM (5)\n",
            "Time with Fast Service at 01:53 PM (1)\n",
            "Time with Fast Service at 01:37 PM (2)\n",
            "Time with Fast Service at 01:58 PM (1)\n",
            "Time with Fast Service at 01:39 PM (1)\n",
            "Time with Fast Service at 02:00 PM (2)\n",
            "Time with Fast Service at 02:02 PM (1)\n",
            "Time with Fast Service at 01:40 PM (1)\n",
            "Time with Fast Service at 01:41 PM (1)\n",
            "Time with Fast Service at 02:03 PM (1)\n",
            "Time with Fast Service at 01:43 PM (1)\n",
            "Time with Fast Service at 01:46 PM (1)\n",
            "Time with Fast Service at 01:56 PM (3)\n",
            "Time with Fast Service at 01:59 PM (2)\n",
            "Time with Fast Service at 01:51 PM (1)\n",
            "Time with Fast Service at 02:01 PM (1)\n",
            "Time with Fast Service at 02:05 PM (1)\n",
            "Time with Fast Service at 02:11 PM (1)\n",
            "Time with Fast Service at 02:08 PM (2)\n",
            "Time with Fast Service at 02:09 PM (2)\n",
            "Time with Fast Service at 02:12 PM (2)\n",
            "Time with Fast Service at 02:15 PM (1)\n",
            "Time with Fast Service at 02:10 PM (1)\n",
            "Time with Fast Service at 02:20 PM (3)\n",
            "Time with Fast Service at 02:17 PM (1)\n",
            "Time with Fast Service at 02:07 PM (1)\n",
            "Time with Fast Service at 02:22 PM (3)\n",
            "Time with Fast Service at 02:35 PM (2)\n",
            "Time with Fast Service at 02:13 PM (1)\n",
            "Time with Fast Service at 02:27 PM (1)\n",
            "Time with Fast Service at 02:31 PM (1)\n",
            "Time with Fast Service at 02:39 PM (1)\n",
            "Time with Fast Service at 02:32 PM (1)\n",
            "Time with Fast Service at 02:14 PM (1)\n",
            "Time with Fast Service at 02:42 PM (2)\n",
            "Time with Fast Service at 02:23 PM (1)\n",
            "Time with Fast Service at 02:25 PM (1)\n",
            "Time with Fast Service at 02:36 PM (1)\n",
            "Time with Fast Service at 02:28 PM (1)\n",
            "Time with Fast Service at 02:58 PM (1)\n",
            "Time with Fast Service at 02:43 PM (2)\n",
            "Time with Fast Service at 02:26 PM (1)\n",
            "Time with Fast Service at 02:30 PM (1)\n",
            "Time with Fast Service at 02:33 PM (1)\n",
            "Time with Fast Service at 02:38 PM (1)\n",
            "Time with Fast Service at 02:50 PM (1)\n",
            "Time with Fast Service at 03:05 PM (1)\n",
            "Time with Fast Service at 02:44 PM (1)\n",
            "Time with Fast Service at 02:53 PM (2)\n",
            "Time with Fast Service at 02:56 PM (1)\n",
            "Time with Fast Service at 03:01 PM (2)\n",
            "Time with Fast Service at 03:15 PM (2)\n",
            "Time with Fast Service at 03:28 PM (1)\n",
            "Time with Fast Service at 02:59 PM (1)\n",
            "Time with Fast Service at 03:04 PM (1)\n",
            "Time with Fast Service at 03:06 PM (1)\n",
            "Time with Fast Service at 03:08 PM (1)\n",
            "Time with Fast Service at 03:18 PM (1)\n",
            "Time with Fast Service at 03:32 PM (1)\n",
            "Time with Fast Service at 03:12 PM (1)\n",
            "Time with Fast Service at 03:27 PM (1)\n",
            "Time with Fast Service at 03:43 PM (1)\n",
            "Time with Fast Service at 03:44 PM (2)\n",
            "Time with Fast Service at 03:20 PM (1)\n",
            "Time with Fast Service at 03:51 PM (1)\n",
            "Time with Fast Service at 03:59 PM (2)\n",
            "Time with Fast Service at 03:22 PM (1)\n",
            "Time with Fast Service at 03:25 PM (1)\n",
            "Time with Fast Service at 04:01 PM (1)\n",
            "Time with Fast Service at 03:30 PM (1)\n",
            "Time with Fast Service at 03:33 PM (1)\n",
            "Time with Fast Service at 03:35 PM (1)\n",
            "Time with Fast Service at 03:38 PM (1)\n",
            "Time with Fast Service at 04:07 PM (1)\n",
            "Time with Fast Service at 04:14 PM (2)\n",
            "Time with Fast Service at 03:53 PM (1)\n",
            "Time with Fast Service at 04:19 PM (1)\n",
            "Time with Fast Service at 04:22 PM (1)\n",
            "Time with Fast Service at 04:34 PM (4)\n",
            "Time with Fast Service at 04:24 PM (2)\n",
            "Time with Fast Service at 04:28 PM (3)\n",
            "Time with Fast Service at 04:02 PM (1)\n",
            "Time with Fast Service at 04:55 PM (4)\n",
            "Time with Fast Service at 04:04 PM (1)\n",
            "Time with Fast Service at 05:05 PM (2)\n",
            "Time with Fast Service at 04:09 PM (1)\n",
            "Time with Fast Service at 04:18 PM (1)\n",
            "Time with Fast Service at 04:20 PM (3)\n",
            "Time with Fast Service at 04:15 PM (1)\n",
            "Time with Fast Service at 04:23 PM (1)\n",
            "Time with Fast Service at 04:26 PM (1)\n",
            "Time with Fast Service at 04:30 PM (2)\n",
            "Time with Fast Service at 04:39 PM (1)\n",
            "Time with Fast Service at 04:42 PM (1)\n",
            "Time with Fast Service at 04:43 PM (1)\n",
            "Time with Fast Service at 04:25 PM (1)\n",
            "Time with Fast Service at 04:27 PM (1)\n",
            "Time with Fast Service at 04:46 PM (3)\n",
            "Time with Fast Service at 04:52 PM (2)\n",
            "Time with Fast Service at 04:29 PM (1)\n",
            "Time with Fast Service at 04:38 PM (1)\n",
            "Time with Fast Service at 04:37 PM (2)\n",
            "Time with Fast Service at 04:44 PM (1)\n",
            "Time with Fast Service at 05:10 PM (1)\n",
            "Time with Fast Service at 05:02 PM (2)\n",
            "Time with Fast Service at 04:47 PM (1)\n",
            "Time with Fast Service at 04:51 PM (1)\n",
            "Time with Fast Service at 05:20 PM (1)\n",
            "Time with Fast Service at 04:53 PM (1)\n",
            "Time with Fast Service at 04:57 PM (2)\n",
            "Time with Fast Service at 05:00 PM (1)\n",
            "Time with Fast Service at 05:07 PM (1)\n",
            "Time with Fast Service at 05:11 PM (1)\n",
            "Time with Fast Service at 04:41 PM (1)\n",
            "Time with Fast Service at 05:12 PM (1)\n",
            "Time with Fast Service at 05:17 PM (1)\n",
            "Time with Fast Service at 05:24 PM (1)\n",
            "Time with Fast Service at 05:28 PM (1)\n",
            "Time with Fast Service at 05:31 PM (1)\n",
            "Time with Fast Service at 05:34 PM (1)\n",
            "Time with Fast Service at 05:42 PM (1)\n",
            "Time with Fast Service at 05:47 PM (1)\n",
            "Time with Fast Service at 05:52 PM (1)\n",
            "Time with Fast Service at 05:58 PM (1)\n",
            "Time with Fast Service at 06:00 PM (1)\n",
            "Time with Fast Service at 06:06 PM (1)\n",
            "Time with Fast Service at 06:10 PM (1)\n",
            "Time with Fast Service at 06:15 PM (1)\n"
          ]
        }
      ],
      "source": [
        "# @title Served Passengers in each Time\n",
        "unique_start_times = df[['START HOUR', 'START MINUTE']].drop_duplicates()\n",
        "\n",
        "for index, start_time in unique_start_times.iterrows():\n",
        "    service_count = df[\n",
        "        (df['START HOUR'] == start_time['START HOUR']) &\n",
        "        (df['START MINUTE'] == start_time['START MINUTE'])\n",
        "    ].shape[0]\n",
        "\n",
        "    formatted_output = \"Time with Fast Service at {:02d}:{:02d} {} ({})\".format(\n",
        "        start_time['START HOUR'] % 12 or 12,  # Adjust for 12-hour format\n",
        "        start_time['START MINUTE'],\n",
        "        \"AM\" if start_time['START HOUR'] < 12 else \"PM\",  # Determine if it's AM or PM\n",
        "        service_count\n",
        "    )\n",
        "\n",
        "    print(formatted_output)\n"
      ]
    },
    {
      "cell_type": "code",
      "execution_count": null,
      "metadata": {
        "id": "dTM4o5MvnXUb"
      },
      "outputs": [],
      "source": [
        "# Assuming df is your DataFrame with the provided data\n",
        "df['DATE'] = pd.to_datetime('2022-01-01')  # You can replace this with the actual date\n",
        "df['ARRIVAL DATETIME'] = pd.to_datetime(df['DATE'].astype(str) + ' ' + df['ARRIVAL TIME'].astype(str))\n"
      ]
    },
    {
      "cell_type": "code",
      "execution_count": null,
      "metadata": {
        "colab": {
          "base_uri": "https://localhost:8080/"
        },
        "id": "chiDo1MAoC9H",
        "outputId": "25fe9498-4c1a-41fc-b535-e3abb304fe28"
      },
      "outputs": [
        {
          "output_type": "stream",
          "name": "stdout",
          "text": [
            "Predicted Arrivals for Tomorrow: 203.00000000000003\n"
          ]
        },
        {
          "output_type": "stream",
          "name": "stderr",
          "text": [
            "/usr/local/lib/python3.10/dist-packages/statsmodels/tsa/base/tsa_model.py:473: ValueWarning: A date index has been provided, but it has no associated frequency information and so will be ignored when e.g. forecasting.\n",
            "  self._init_dates(dates, freq)\n",
            "/usr/local/lib/python3.10/dist-packages/statsmodels/tsa/base/tsa_model.py:473: ValueWarning: A date index has been provided, but it has no associated frequency information and so will be ignored when e.g. forecasting.\n",
            "  self._init_dates(dates, freq)\n",
            "/usr/local/lib/python3.10/dist-packages/statsmodels/tsa/base/tsa_model.py:473: ValueWarning: A date index has been provided, but it has no associated frequency information and so will be ignored when e.g. forecasting.\n",
            "  self._init_dates(dates, freq)\n",
            "/usr/local/lib/python3.10/dist-packages/statsmodels/tsa/statespace/sarimax.py:866: UserWarning: Too few observations to estimate starting parameters for ARMA and trend. All parameters except for variances will be set to zeros.\n",
            "  warn('Too few observations to estimate starting parameters%s.'\n",
            "/usr/local/lib/python3.10/dist-packages/statsmodels/tsa/statespace/mlemodel.py:1234: RuntimeWarning: invalid value encountered in divide\n",
            "  np.inner(score_obs, score_obs) /\n",
            "/usr/local/lib/python3.10/dist-packages/statsmodels/tsa/base/tsa_model.py:836: ValueWarning: No supported index is available. Prediction results will be given with an integer index beginning at `start`.\n",
            "  return get_prediction_index(\n",
            "/usr/local/lib/python3.10/dist-packages/statsmodels/tsa/base/tsa_model.py:836: FutureWarning: No supported index is available. In the next version, calling this method in a model without a supported index will result in an exception.\n",
            "  return get_prediction_index(\n"
          ]
        }
      ],
      "source": [
        "# @title Predicting Arrivals of tommorow\n",
        "# Assuming df is your DataFrame with the provided data\n",
        "df['DATE'] = pd.to_datetime('2022-01-01')  # You can replace this with the actual date\n",
        "df['ARRIVAL DATETIME'] = pd.to_datetime(df['DATE'].astype(str) + ' ' + df['ARRIVAL TIME'].astype(str))\n",
        "\n",
        "# Calculate daily arrival counts\n",
        "daily_arrival_counts = df.groupby('DATE')['ARRIVAL TIME'].count()\n",
        "\n",
        "# Train ARIMA model\n",
        "from statsmodels.tsa.arima.model import ARIMA\n",
        "\n",
        "model = ARIMA(daily_arrival_counts, order=(1, 1, 1))  # You can adjust the order as needed\n",
        "results = model.fit()\n",
        "\n",
        "# Forecast for the next day\n",
        "forecast = results.get_forecast(steps=1)\n",
        "predicted_arrivals = forecast.predicted_mean\n",
        "print(\"Predicted Arrivals for Tomorrow:\", predicted_arrivals.values[0])\n"
      ]
    },
    {
      "cell_type": "code",
      "execution_count": null,
      "metadata": {
        "colab": {
          "base_uri": "https://localhost:8080/"
        },
        "id": "uq0V-CmCfqNB",
        "outputId": "7bb4f6c1-9e97-4d1b-bb41-a575422e17b8"
      },
      "outputs": [
        {
          "output_type": "stream",
          "name": "stdout",
          "text": [
            "Predicted Total Arrivals for Tomorrow Between 12:00 pm to 11:59 am: 551.0\n"
          ]
        }
      ],
      "source": [
        "# @title Predicted Total Arrivals for Tomorrow\n",
        "# Convert 'ARRIVAL DATETIME' to datetime\n",
        "df['ARRIVAL DATETIME'] = pd.to_datetime(df['ARRIVAL DATETIME'])\n",
        "\n",
        "# Extract hour from 'ARRIVAL DATETIME'\n",
        "df['HOUR'] = df['ARRIVAL DATETIME'].dt.hour\n",
        "\n",
        "# Calculate average arrivals per hour\n",
        "\n",
        "average_arrivals_per_hour = df.groupby('HOUR').size().mean()\n",
        "\n",
        "# Assuming today's data is until the last recorded hour\n",
        "last_recorded_hour = df['HOUR'].max()\n",
        "\n",
        "# Predict total arrivals for the next day\n",
        "predicted_total_arrivals = average_arrivals_per_hour * (last_recorded_hour + 1)\n",
        "\n",
        "print(\"Predicted Total Arrivals for Tomorrow Between 12:00 pm to 11:59 am:\", predicted_total_arrivals)"
      ]
    },
    {
      "cell_type": "code",
      "execution_count": null,
      "metadata": {
        "colab": {
          "base_uri": "https://localhost:8080/"
        },
        "id": "fIwD0R0agepF",
        "outputId": "0a5e4727-bccd-4b17-b248-5ccb495f9edb"
      },
      "outputs": [
        {
          "output_type": "stream",
          "name": "stdout",
          "text": [
            "Predicted Total Arrivals for Tomorrow between 12:46pm to 6:20pm: 174.00\n"
          ]
        }
      ],
      "source": [
        "# @title Predicted Total Arrivals for Tomorrow between 12:46pm to 6:20pm\n",
        "# Convert 'ARRIVAL DATETIME' to datetime\n",
        "df['ARRIVAL DATETIME'] = pd.to_datetime(df['ARRIVAL DATETIME'])\n",
        "\n",
        "# Extract hour from 'ARRIVAL DATETIME'\n",
        "df['HOUR'] = df['ARRIVAL DATETIME'].dt.hour\n",
        "\n",
        "# Calculate average arrivals per hour\n",
        "average_arrivals_per_hour = df.groupby('HOUR').size().mean()\n",
        "\n",
        "# Assuming today's data is until the last recorded hour\n",
        "last_recorded_hour = df['HOUR'].max()\n",
        "\n",
        "# Limit prediction to the hours you've collected data for\n",
        "prediction_hours = range(last_recorded_hour + 1, last_recorded_hour + 7)\n",
        "predicted_total_arrivals = average_arrivals_per_hour * len(prediction_hours)\n",
        "\n",
        "# Format and print the output\n",
        "formatted_output = \"Predicted Total Arrivals for Tomorrow between 12:46pm to 6:20pm: {:.2f}\".format(predicted_total_arrivals)\n",
        "print(formatted_output)\n"
      ]
    },
    {
      "cell_type": "code",
      "source": [
        "import pandas as pd\n",
        "\n",
        "# Assuming your DataFrame is named 'df'\n",
        "# Add a new column for the arrival date (today's date)\n",
        "df['ARRIVAL DATE'] = pd.to_datetime('today').date()\n",
        "\n",
        "# Add one day to get tomorrow's date\n",
        "df['ARRIVAL DATE'] += pd.DateOffset(days=1)\n",
        "\n",
        "# Combine date and time to create a new datetime column for tomorrow's arrivals\n",
        "df['ARRIVAL DATETIME'] = pd.to_datetime(df['ARRIVAL DATE'].astype(str) + ' ' + df['ARRIVAL TIME'].astype(str))\n",
        "\n",
        "# Extract hour and minute components\n",
        "df['ARRIVAL HOUR'] = df['ARRIVAL DATETIME'].dt.hour\n",
        "df['ARRIVAL MINUTE'] = df['ARRIVAL DATETIME'].dt.minute\n",
        "\n",
        "# Find the time with maximum arrivals for tomorrow\n",
        "max_arrival_time_tomorrow = df.groupby(['ARRIVAL HOUR', 'ARRIVAL MINUTE']).size().idxmax()\n",
        "arrival_count_tomorrow = df.groupby(['ARRIVAL HOUR', 'ARRIVAL MINUTE']).size().max()\n",
        "\n",
        "# Format and print the output\n",
        "formatted_max_arrival_time_tomorrow = \"Time with Maximum Arrivals Tomorrow at: {:02d}:{:02d} {} ({})\".format(\n",
        "    max_arrival_time_tomorrow[0] % 12 or 12,  # Adjust for 12-hour format\n",
        "    max_arrival_time_tomorrow[1],\n",
        "    \"AM\" if max_arrival_time_tomorrow[0] < 12 else \"PM\",  # Determine if it's AM or PM\n",
        "    arrival_count_tomorrow\n",
        ")\n",
        "\n",
        "print(formatted_max_arrival_time_tomorrow)\n"
      ],
      "metadata": {
        "colab": {
          "base_uri": "https://localhost:8080/"
        },
        "id": "6l_TUktlKo9k",
        "outputId": "da17858f-5b61-4ff1-8694-c6bf8fd1b9db"
      },
      "execution_count": null,
      "outputs": [
        {
          "output_type": "stream",
          "name": "stdout",
          "text": [
            "Time with Maximum Arrivals Tomorrow at: 01:48 PM (5)\n"
          ]
        }
      ]
    }
  ],
  "metadata": {
    "colab": {
      "provenance": []
    },
    "kernelspec": {
      "display_name": "Python 3",
      "name": "python3"
    },
    "language_info": {
      "name": "python"
    }
  },
  "nbformat": 4,
  "nbformat_minor": 0
}